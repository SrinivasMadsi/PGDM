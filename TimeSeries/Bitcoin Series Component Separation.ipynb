{
 "cells": [
  {
   "cell_type": "markdown",
   "metadata": {},
   "source": [
    "# Bitcoin Series Component Separation"
   ]
  },
  {
   "cell_type": "markdown",
   "metadata": {},
   "source": [
    "Let’s see how you can use Python to separate the various components of the time series '**Bitcoin Price Historical Data**'. \n",
    "The file contains the average price (USD) of bitcoin over a month for 32 months that have passed since the end of December 2014."
   ]
  },
  {
   "cell_type": "code",
   "execution_count": null,
   "metadata": {},
   "outputs": [],
   "source": [
    "#importing required Python libraries \n",
    "\n",
    "import numpy as np\n",
    "import pandas as pd\n",
    "import matplotlib.pyplot as plt"
   ]
  },
  {
   "cell_type": "code",
   "execution_count": null,
   "metadata": {},
   "outputs": [],
   "source": [
    "#loading the data set from csv file into dataframe 'df1'\n",
    "\n",
    "df1 = pd.read_csv(\"bitcoin_price_historical_data.csv\")\n",
    "df1.head()"
   ]
  },
  {
   "cell_type": "markdown",
   "metadata": {},
   "source": [
    "As you can see, the dataset includes two columns, 'Months' and 'Price'. The variable 'months' refers to the number of months that have passed since the end of December 2014. The variable 'price' refers to the average price of 1 bitcoin for that month in USD."
   ]
  },
  {
   "cell_type": "code",
   "execution_count": null,
   "metadata": {},
   "outputs": [],
   "source": [
    "#Plotting the series\n",
    "\n",
    "plt.figure(figsize=(14, 6))\n",
    "\n",
    "df1.iloc[:,1].plot()\n",
    "\n",
    "plt.xlabel('Month')\n",
    "plt.ylabel('Price')\n",
    "plt.show()"
   ]
  },
  {
   "cell_type": "markdown",
   "metadata": {},
   "source": [
    "After this, you need to check whether there is any 'trend', 'seasonality' or 'cyclicity' in the data. It looks like the series follows an increasing exponential distribution. Hence, you should try to fit an exponential function to the series. One way to simplify it is to fit a model that predicts the log price on a monthly basis.\n",
    "\n",
    "You will require another library to build a model in Python - **statmodels**. This library is widely used for the estimating statistical models and perform various statistical tests on the data available. "
   ]
  },
  {
   "cell_type": "code",
   "execution_count": null,
   "metadata": {},
   "outputs": [],
   "source": [
    "#Creating a logarithmic model fitting over the bitcoin dataset\n",
    "import statsmodels.api as sm\n",
    "\n",
    "# Creating variables 'x' and 'y' for model estimation\n",
    "x = df1.iloc[:,0] # First column contains the month number\n",
    "y = np.log(df1.iloc[:,1]) # Second column has been transformed to generate a linear trend"
   ]
  },
  {
   "cell_type": "code",
   "execution_count": null,
   "metadata": {},
   "outputs": [],
   "source": [
    "# Plotting the transformed series\n",
    "plt.figure(num=None, figsize=(12, 6), dpi=80, facecolor='w', edgecolor='k')\n",
    "y.plot()\n",
    "plt.xlabel('Month')\n",
    "plt.ylabel('Price')\n",
    "plt.show()"
   ]
  },
  {
   "cell_type": "markdown",
   "metadata": {},
   "source": [
    "Since, there is a linear upward trend in the plot above, you can use the simple OLS method of linear regression for the estimation of the global trend. Code to impose a linear trend are provided below."
   ]
  },
  {
   "cell_type": "code",
   "execution_count": null,
   "metadata": {},
   "outputs": [],
   "source": [
    "# Add a constant to get an intercept\n",
    "x_sm = sm.add_constant(x)\n",
    "\n",
    "# Fit the resgression line using 'OLS'\n",
    "lr = sm.OLS(y, x_sm).fit()\n",
    "\n",
    "# Print the parameters, i.e. the intercept and the slope of the regression line fitted\n",
    "lr.params"
   ]
  },
  {
   "cell_type": "markdown",
   "metadata": {},
   "source": [
    "The\"**lr**\" model prepared from the series is **y = 4.988 + 0.083*x**. You can try to visualize both, the time series and the linear trend using the code below. It can be seen that the trend appropriately fits the time series."
   ]
  },
  {
   "cell_type": "code",
   "execution_count": null,
   "metadata": {},
   "outputs": [],
   "source": [
    "#plotting the series and fitted regression line\n",
    "plt.figure(figsize=(14, 6))\n",
    "\n",
    "plt.plot(y)\n",
    "plt.plot(x, lr.params[0] + lr.params[1] * x, 'r')\n",
    "\n",
    "plt.xlabel('Month')\n",
    "plt.ylabel('Price')\n",
    "plt.show()"
   ]
  },
  {
   "cell_type": "markdown",
   "metadata": {},
   "source": [
    "The red line here, the one that shows the regression fit, gives the overall pattern of the data. So overall, you expect the average price of bitcoin to go up every year. This gives us the global pattern of the data.\n",
    "\n",
    "Now, let's plot the series after removing the global pattern."
   ]
  },
  {
   "cell_type": "code",
   "execution_count": null,
   "metadata": {},
   "outputs": [],
   "source": [
    "# Storing the predicted values obtained from the linear regression model\n",
    "globalpred = lr.predict(x_sm)\n",
    "\n",
    "# plotting the series after removing the global pattern\n",
    "\n",
    "plt.figure(figsize=(14, 6))\n",
    "\n",
    "localpred = (y - globalpred)\n",
    "plt.plot(localpred)\n",
    "\n",
    "plt.xlabel('Month')\n",
    "plt.ylabel('Price')\n",
    "plt.show()"
   ]
  },
  {
   "cell_type": "markdown",
   "metadata": {},
   "source": [
    "### Question 1\n",
    "The value of global_pred for June 2017 is approximately equal to ...........\n",
    "\n",
    "In June 2017, 30 months would have passed since December 2014. So, if you want to find the value of global_pred for June 2017, you should find the 30th element in the vector global_pred. \n",
    "\n",
    "Use the command globalpred[29]"
   ]
  },
  {
   "cell_type": "code",
   "execution_count": null,
   "metadata": {},
   "outputs": [],
   "source": [
    "round(globalpred[29],1)"
   ]
  },
  {
   "cell_type": "markdown",
   "metadata": {},
   "source": [
    "### Question 2\n",
    "The value of local_pred for June 2017 is approximately equal to ...........\n",
    "\n",
    "Use the command localpred[29]"
   ]
  },
  {
   "cell_type": "code",
   "execution_count": null,
   "metadata": {},
   "outputs": [],
   "source": [
    "round(localpred[29],1)"
   ]
  },
  {
   "cell_type": "markdown",
   "metadata": {},
   "source": [
    "One thing that you should be aware of is that the global and local predictions obtained are on a transformed series. Hence, if you want to obtain the predicted value for the bitcoin price in a month, you will have to reverse the transformation. Since we use a logarithmic transformation, it can be reversed by using an exponential transformation."
   ]
  },
  {
   "cell_type": "markdown",
   "metadata": {},
   "source": [
    "**exp(log(x)) = x**\n",
    "\n",
    "Hence, we will obtain the same values as the original series if we implement this transformation."
   ]
  },
  {
   "cell_type": "code",
   "execution_count": null,
   "metadata": {},
   "outputs": [],
   "source": [
    "# Check for the transformation\n",
    "price_pred = np.exp(globalpred + localpred)\n",
    "price_pred"
   ]
  }
 ],
 "metadata": {
  "kernelspec": {
   "display_name": "Python 3",
   "language": "python",
   "name": "python3"
  },
  "language_info": {
   "codemirror_mode": {
    "name": "ipython",
    "version": 3
   },
   "file_extension": ".py",
   "mimetype": "text/x-python",
   "name": "python",
   "nbconvert_exporter": "python",
   "pygments_lexer": "ipython3",
   "version": "3.6.4"
  }
 },
 "nbformat": 4,
 "nbformat_minor": 2
}
